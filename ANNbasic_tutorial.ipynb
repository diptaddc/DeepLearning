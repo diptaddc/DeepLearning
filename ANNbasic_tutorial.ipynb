{
  "nbformat": 4,
  "nbformat_minor": 0,
  "metadata": {
    "colab": {
      "name": "ANNbasic_tutorial.ipynb",
      "version": "0.3.2",
      "provenance": [],
      "include_colab_link": true
    },
    "kernelspec": {
      "name": "python3",
      "display_name": "Python 3"
    }
  },
  "cells": [
    {
      "cell_type": "markdown",
      "metadata": {
        "id": "view-in-github",
        "colab_type": "text"
      },
      "source": [
        "<a href=\"https://colab.research.google.com/github/diptaddc/DeepLearning/blob/master/ANNbasic_tutorial.ipynb\" target=\"_parent\"><img src=\"https://colab.research.google.com/assets/colab-badge.svg\" alt=\"Open In Colab\"/></a>"
      ]
    },
    {
      "cell_type": "markdown",
      "metadata": {
        "id": "SoIGi6cwP48y",
        "colab_type": "text"
      },
      "source": [
        "Import All Libraries"
      ]
    },
    {
      "cell_type": "code",
      "metadata": {
        "id": "yeASWBNsIjHq",
        "colab_type": "code",
        "colab": {}
      },
      "source": [
        "import pandas as pd\n",
        "import numpy as np\n",
        "import matplotlib as plt"
      ],
      "execution_count": 0,
      "outputs": []
    },
    {
      "cell_type": "markdown",
      "metadata": {
        "id": "ZRZwuhAMP2yx",
        "colab_type": "text"
      },
      "source": [
        "Load Data"
      ]
    },
    {
      "cell_type": "code",
      "metadata": {
        "id": "qpC3ptX4LYm0",
        "colab_type": "code",
        "colab": {}
      },
      "source": [
        "dataset  = pd.read_csv('Churn_Modelling.csv')"
      ],
      "execution_count": 0,
      "outputs": []
    },
    {
      "cell_type": "markdown",
      "metadata": {
        "id": "yQD-tM66QMPK",
        "colab_type": "text"
      },
      "source": [
        "Split into Feature and Results"
      ]
    },
    {
      "cell_type": "code",
      "metadata": {
        "id": "4ZxPhmoHLt3W",
        "colab_type": "code",
        "colab": {}
      },
      "source": [
        "X = dataset.iloc[:, 3:13].values\n",
        "Y = dataset.iloc[:, 13].values"
      ],
      "execution_count": 0,
      "outputs": []
    },
    {
      "cell_type": "markdown",
      "metadata": {
        "id": "X0GycoJCQQ6c",
        "colab_type": "text"
      },
      "source": [
        "Encode the categorical Data"
      ]
    },
    {
      "cell_type": "code",
      "metadata": {
        "id": "CcBNN6agMWwt",
        "colab_type": "code",
        "colab": {}
      },
      "source": [
        "from sklearn.preprocessing import LabelEncoder, OneHotEncoder\n",
        "\n",
        "labelencoder_X1 = LabelEncoder()\n",
        "X[:, 1] = labelencoder_X1.fit_transform(X[:, 1])\n",
        "\n",
        "labelencoder_X2 = LabelEncoder()\n",
        "X[:, 2] = labelencoder_X1.fit_transform(X[:, 2])"
      ],
      "execution_count": 0,
      "outputs": []
    },
    {
      "cell_type": "code",
      "metadata": {
        "id": "cszqIVv1NAYF",
        "colab_type": "code",
        "colab": {}
      },
      "source": [
        " onehotencoder = OneHotEncoder(categorical_features= [1])\n",
        " X = onehotencoder.fit_transform(X).toarray()"
      ],
      "execution_count": 0,
      "outputs": []
    },
    {
      "cell_type": "code",
      "metadata": {
        "id": "mg0mVnmcODYL",
        "colab_type": "code",
        "colab": {}
      },
      "source": [
        "X = X[:, 1:]"
      ],
      "execution_count": 0,
      "outputs": []
    },
    {
      "cell_type": "markdown",
      "metadata": {
        "id": "AbCnltwNQbr_",
        "colab_type": "text"
      },
      "source": [
        "Train and Test Split"
      ]
    },
    {
      "cell_type": "code",
      "metadata": {
        "id": "hPWox5yGOXQI",
        "colab_type": "code",
        "colab": {}
      },
      "source": [
        "from sklearn.model_selection import train_test_split\n",
        "\n",
        "X_train, X_test, Y_train, Y_test = train_test_split(X,Y, test_size = 0.2, random_state = 0)"
      ],
      "execution_count": 0,
      "outputs": []
    },
    {
      "cell_type": "markdown",
      "metadata": {
        "id": "b75JZrnuQheW",
        "colab_type": "text"
      },
      "source": [
        "Scaling the features #Important for NN"
      ]
    },
    {
      "cell_type": "code",
      "metadata": {
        "id": "alLIdnRvO_dG",
        "colab_type": "code",
        "colab": {}
      },
      "source": [
        "from sklearn.preprocessing import StandardScaler\n",
        "sc = StandardScaler()\n",
        "X_train = sc.fit_transform(X_train)\n",
        "X_test = sc.transform(X_test)"
      ],
      "execution_count": 0,
      "outputs": []
    },
    {
      "cell_type": "markdown",
      "metadata": {
        "id": "mMK9Ll81QriO",
        "colab_type": "text"
      },
      "source": [
        "Building the Neural Network"
      ]
    },
    {
      "cell_type": "markdown",
      "metadata": {
        "id": "WZoGfrmhRCzE",
        "colab_type": "text"
      },
      "source": [
        "Import NN libraries. Sequential => Initialize. Dense => Building the Layers"
      ]
    },
    {
      "cell_type": "code",
      "metadata": {
        "id": "1RwbhNpFPgsC",
        "colab_type": "code",
        "colab": {}
      },
      "source": [
        "import keras\n",
        "from keras.models import Sequential\n",
        "from keras.layers import Dense"
      ],
      "execution_count": 0,
      "outputs": []
    },
    {
      "cell_type": "code",
      "metadata": {
        "id": "XzSEU93URSSX",
        "colab_type": "code",
        "colab": {}
      },
      "source": [
        "classifier = Sequential()"
      ],
      "execution_count": 0,
      "outputs": []
    },
    {
      "cell_type": "markdown",
      "metadata": {
        "id": "-2vqIRNeVPQN",
        "colab_type": "text"
      },
      "source": [
        "Adding Hidden Layers"
      ]
    },
    {
      "cell_type": "markdown",
      "metadata": {
        "id": "LgwFEfMlUQMC",
        "colab_type": "text"
      },
      "source": [
        "Output_dim or units = (number of features  + number of ouput nodes) / 2"
      ]
    },
    {
      "cell_type": "code",
      "metadata": {
        "id": "vqMWBD3IRw6r",
        "colab_type": "code",
        "colab": {}
      },
      "source": [
        "classifier.add(Dense(activation=\"relu\", input_dim=11, units=6, kernel_initializer=\"uniform\"))"
      ],
      "execution_count": 0,
      "outputs": []
    },
    {
      "cell_type": "code",
      "metadata": {
        "id": "hGJgmo37T5Qm",
        "colab_type": "code",
        "colab": {}
      },
      "source": [
        "classifier.add(Dense(activation=\"relu\", units=6, kernel_initializer=\"uniform\"))"
      ],
      "execution_count": 0,
      "outputs": []
    },
    {
      "cell_type": "markdown",
      "metadata": {
        "id": "TPL5mEL-VN4-",
        "colab_type": "text"
      },
      "source": [
        "Adding the Output Layer\n",
        "\n",
        "Sigmoid = Probabilistic Binary Classification\n",
        "Soft Max = Probabilisctic Polynomial Classification\n",
        "\n",
        "Output_dim / units also change accordingly."
      ]
    },
    {
      "cell_type": "code",
      "metadata": {
        "id": "fJCo-6SQVM0U",
        "colab_type": "code",
        "colab": {}
      },
      "source": [
        "classifier.add(Dense(activation=\"sigmoid\", units=1, kernel_initializer=\"uniform\"))"
      ],
      "execution_count": 0,
      "outputs": []
    },
    {
      "cell_type": "markdown",
      "metadata": {
        "id": "_lY2Am0pWxej",
        "colab_type": "text"
      },
      "source": [
        "Compile the ANN\n",
        "\n",
        "Binary_crossentropy => Binary Classification\n",
        "Categorical_crossentropy => Polynomial Classification"
      ]
    },
    {
      "cell_type": "code",
      "metadata": {
        "id": "ATK1oe3QWV6f",
        "colab_type": "code",
        "colab": {}
      },
      "source": [
        "classifier.compile(optimizer = 'adam', loss = 'binary_crossentropy', metrics = ['accuracy'])"
      ],
      "execution_count": 0,
      "outputs": []
    },
    {
      "cell_type": "markdown",
      "metadata": {
        "id": "BA6Z6V0bXz8d",
        "colab_type": "text"
      },
      "source": [
        "Train the Neural Network"
      ]
    },
    {
      "cell_type": "code",
      "metadata": {
        "id": "jP5LbB4_XtHR",
        "colab_type": "code",
        "colab": {}
      },
      "source": [
        "classifier.fit(X_train, Y_train, batch_size=10, nb_epoch = 100)"
      ],
      "execution_count": 0,
      "outputs": []
    },
    {
      "cell_type": "markdown",
      "metadata": {
        "id": "G-LwdG-_ZA1w",
        "colab_type": "text"
      },
      "source": [
        "Predict"
      ]
    },
    {
      "cell_type": "code",
      "metadata": {
        "id": "KCGBYqS4YdvO",
        "colab_type": "code",
        "colab": {}
      },
      "source": [
        "Y_pred = classifier.predict(X_test)"
      ],
      "execution_count": 0,
      "outputs": []
    },
    {
      "cell_type": "code",
      "metadata": {
        "id": "CKCZ2UmBZJMD",
        "colab_type": "code",
        "colab": {}
      },
      "source": [
        "Y_pred = (Y_pred > 0.5)"
      ],
      "execution_count": 0,
      "outputs": []
    },
    {
      "cell_type": "code",
      "metadata": {
        "id": "atVM1yTnZ7O_",
        "colab_type": "code",
        "colab": {}
      },
      "source": [
        "Y_test = (Y_test == 1)"
      ],
      "execution_count": 0,
      "outputs": []
    },
    {
      "cell_type": "code",
      "metadata": {
        "id": "modO-gVCZ8iX",
        "colab_type": "code",
        "colab": {}
      },
      "source": [
        "from sklearn.metrics import accuracy_score\n",
        "ac = accuracy_score(Y_test, Y_pred)"
      ],
      "execution_count": 0,
      "outputs": []
    },
    {
      "cell_type": "code",
      "metadata": {
        "id": "kWNYfBEfaEJC",
        "colab_type": "code",
        "colab": {
          "base_uri": "https://localhost:8080/",
          "height": 34
        },
        "outputId": "819d065d-15ae-4ad3-d4d3-80495aab91ac"
      },
      "source": [
        "ac\n"
      ],
      "execution_count": 52,
      "outputs": [
        {
          "output_type": "execute_result",
          "data": {
            "text/plain": [
              "0.841"
            ]
          },
          "metadata": {
            "tags": []
          },
          "execution_count": 52
        }
      ]
    },
    {
      "cell_type": "code",
      "metadata": {
        "id": "cTJHCp6YacPr",
        "colab_type": "code",
        "colab": {}
      },
      "source": [
        ""
      ],
      "execution_count": 0,
      "outputs": []
    }
  ]
}